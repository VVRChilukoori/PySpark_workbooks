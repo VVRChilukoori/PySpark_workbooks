{
  "nbformat": 4,
  "nbformat_minor": 0,
  "metadata": {
    "colab": {
      "name": "PySpark 2.4.4 Workbook.ipynb",
      "provenance": [],
      "collapsed_sections": [],
      "authorship_tag": "ABX9TyPiBVPj6l1CAZnDw0yiwYDZ"
    },
    "kernelspec": {
      "name": "python3",
      "display_name": "Python 3"
    }
  },
  "cells": [
    {
      "cell_type": "code",
      "metadata": {
        "id": "3jM_-7h4iVfF",
        "colab_type": "code",
        "outputId": "9d621517-6726-4508-f406-d9b11e48df73",
        "colab": {
          "base_uri": "https://localhost:8080/",
          "height": 35
        }
      },
      "source": [
        "!python --version"
      ],
      "execution_count": 0,
      "outputs": [
        {
          "output_type": "stream",
          "text": [
            "Python 3.6.9\n"
          ],
          "name": "stdout"
        }
      ]
    },
    {
      "cell_type": "code",
      "metadata": {
        "id": "XAsG-inDjLin",
        "colab_type": "code",
        "outputId": "8ec96b26-d4e0-4a6b-f7eb-6ffaa0f7704a",
        "colab": {
          "base_uri": "https://localhost:8080/",
          "height": 52
        }
      },
      "source": [
        "!ls -ltr"
      ],
      "execution_count": 0,
      "outputs": [
        {
          "output_type": "stream",
          "text": [
            "total 4\n",
            "drwxr-xr-x 1 root root 4096 Mar  3 18:11 sample_data\n"
          ],
          "name": "stdout"
        }
      ]
    },
    {
      "cell_type": "code",
      "metadata": {
        "id": "VB0oR0qjkrZn",
        "colab_type": "code",
        "outputId": "2e6b34f9-4d31-486e-86c1-55bd853fa295",
        "colab": {
          "base_uri": "https://localhost:8080/",
          "height": 35
        }
      },
      "source": [
        "!pwd"
      ],
      "execution_count": 0,
      "outputs": [
        {
          "output_type": "stream",
          "text": [
            "/content\n"
          ],
          "name": "stdout"
        }
      ]
    },
    {
      "cell_type": "code",
      "metadata": {
        "id": "63f6acfEif-f",
        "colab_type": "code",
        "outputId": "e9ae6e1f-fea0-4b23-850b-3be17a1b29c8",
        "colab": {
          "base_uri": "https://localhost:8080/",
          "height": 399
        }
      },
      "source": [
        "!apt-get update"
      ],
      "execution_count": 0,
      "outputs": [
        {
          "output_type": "stream",
          "text": [
            "\r0% [Working]\r            \rGet:1 https://cloud.r-project.org/bin/linux/ubuntu bionic-cran35/ InRelease [3,626 B]\n",
            "\r0% [Connecting to archive.ubuntu.com] [Connecting to security.ubuntu.com] [1 In\r0% [Connecting to archive.ubuntu.com] [Connecting to security.ubuntu.com] [Wait\r0% [1 InRelease gpgv 3,626 B] [Connecting to archive.ubuntu.com] [Connecting to\r                                                                               \rIgn:2 https://developer.download.nvidia.com/compute/cuda/repos/ubuntu1804/x86_64  InRelease\n",
            "\r0% [1 InRelease gpgv 3,626 B] [Connecting to archive.ubuntu.com (91.189.88.31)]\r0% [Connecting to archive.ubuntu.com (91.189.88.31)] [Connecting to security.ub\r                                                                               \rIgn:3 https://developer.download.nvidia.com/compute/machine-learning/repos/ubuntu1804/x86_64  InRelease\n",
            "\r0% [Connecting to archive.ubuntu.com (91.189.88.31)] [Connecting to security.ub\r                                                                               \rGet:4 https://developer.download.nvidia.com/compute/cuda/repos/ubuntu1804/x86_64  Release [564 B]\n",
            "\r0% [Connecting to archive.ubuntu.com (91.189.88.162)] [Connecting to security.u\r                                                                               \rHit:5 https://developer.download.nvidia.com/compute/machine-learning/repos/ubuntu1804/x86_64  Release\n",
            "Get:6 https://developer.download.nvidia.com/compute/cuda/repos/ubuntu1804/x86_64  Release.gpg [819 B]\n",
            "Get:7 http://ppa.launchpad.net/graphics-drivers/ppa/ubuntu bionic InRelease [21.3 kB]\n",
            "Get:9 http://security.ubuntu.com/ubuntu bionic-security InRelease [88.7 kB]\n",
            "Hit:10 http://archive.ubuntu.com/ubuntu bionic InRelease\n",
            "Get:11 https://developer.download.nvidia.com/compute/cuda/repos/ubuntu1804/x86_64  Packages [141 kB]\n",
            "Get:12 http://archive.ubuntu.com/ubuntu bionic-updates InRelease [88.7 kB]\n",
            "Get:13 http://ppa.launchpad.net/marutter/c2d4u3.5/ubuntu bionic InRelease [15.4 kB]\n",
            "Get:14 http://ppa.launchpad.net/graphics-drivers/ppa/ubuntu bionic/main amd64 Packages [37.1 kB]\n",
            "Get:15 http://security.ubuntu.com/ubuntu bionic-security/universe amd64 Packages [826 kB]\n",
            "Get:16 http://archive.ubuntu.com/ubuntu bionic-backports InRelease [74.6 kB]\n",
            "Get:17 http://archive.ubuntu.com/ubuntu bionic-updates/universe amd64 Packages [1,355 kB]\n",
            "Get:18 http://ppa.launchpad.net/marutter/c2d4u3.5/ubuntu bionic/main Sources [1,781 kB]\n",
            "Get:19 http://security.ubuntu.com/ubuntu bionic-security/main amd64 Packages [836 kB]\n",
            "Get:20 http://archive.ubuntu.com/ubuntu bionic-updates/main amd64 Packages [1,128 kB]\n",
            "Get:21 http://ppa.launchpad.net/marutter/c2d4u3.5/ubuntu bionic/main amd64 Packages [860 kB]\n",
            "Fetched 7,260 kB in 8s (953 kB/s)\n",
            "Reading package lists... Done\n"
          ],
          "name": "stdout"
        }
      ]
    },
    {
      "cell_type": "code",
      "metadata": {
        "id": "sQo0BybFjQz4",
        "colab_type": "code",
        "colab": {}
      },
      "source": [
        "!apt-get install openjdk-8-jdk-headless -qq > /dev/null"
      ],
      "execution_count": 0,
      "outputs": []
    },
    {
      "cell_type": "code",
      "metadata": {
        "id": "yA6LCwLkjCVS",
        "colab_type": "code",
        "colab": {}
      },
      "source": [
        "# http://archive.apache.org/dist/spark/\n",
        "# http://archive.apache.org/dist/spark/spark-2.4.4/"
      ],
      "execution_count": 0,
      "outputs": []
    },
    {
      "cell_type": "code",
      "metadata": {
        "id": "FsE8lHknilGP",
        "colab_type": "code",
        "colab": {}
      },
      "source": [
        "!wget -q http://archive.apache.org/dist/spark/spark-2.4.4/spark-2.4.4-bin-hadoop2.7.tgz"
      ],
      "execution_count": 0,
      "outputs": []
    },
    {
      "cell_type": "code",
      "metadata": {
        "id": "_639OJXzi_rV",
        "colab_type": "code",
        "colab": {}
      },
      "source": [
        "!tar xf spark-2.4.4-bin-hadoop2.7.tgz"
      ],
      "execution_count": 0,
      "outputs": []
    },
    {
      "cell_type": "code",
      "metadata": {
        "id": "qCZS5hv7jrp7",
        "colab_type": "code",
        "outputId": "89b6301b-6e1e-4811-8c66-2a076ff1092d",
        "colab": {
          "base_uri": "https://localhost:8080/",
          "height": 87
        }
      },
      "source": [
        "!ls -ltr"
      ],
      "execution_count": 0,
      "outputs": [
        {
          "output_type": "stream",
          "text": [
            "total 224712\n",
            "drwxr-xr-x 13 1000 1000      4096 Aug 27  2019 spark-2.4.4-bin-hadoop2.7\n",
            "-rw-r--r--  1 root root 230091034 Aug 27  2019 spark-2.4.4-bin-hadoop2.7.tgz\n",
            "drwxr-xr-x  1 root root      4096 Mar  3 18:11 sample_data\n"
          ],
          "name": "stdout"
        }
      ]
    },
    {
      "cell_type": "code",
      "metadata": {
        "id": "wM9lJWTeiZRB",
        "colab_type": "code",
        "colab": {}
      },
      "source": [
        "!pip install -q findspark"
      ],
      "execution_count": 0,
      "outputs": []
    },
    {
      "cell_type": "code",
      "metadata": {
        "id": "Tya3_xlxlTCH",
        "colab_type": "code",
        "outputId": "2a432ef9-b938-4860-fa51-a1db55d86fbe",
        "colab": {
          "base_uri": "https://localhost:8080/",
          "height": 208
        }
      },
      "source": [
        "!wget https://data.cityofchicago.org/api/views/ijzp-q8t2/rows.csv?accessType=Download"
      ],
      "execution_count": 0,
      "outputs": [
        {
          "output_type": "stream",
          "text": [
            "--2020-03-10 22:14:08--  https://data.cityofchicago.org/api/views/ijzp-q8t2/rows.csv?accessType=Download\n",
            "Resolving data.cityofchicago.org (data.cityofchicago.org)... 52.206.140.199, 52.206.68.26, 52.206.140.205\n",
            "Connecting to data.cityofchicago.org (data.cityofchicago.org)|52.206.140.199|:443... connected.\n",
            "HTTP request sent, awaiting response... 200 OK\n",
            "Length: unspecified [text/csv]\n",
            "Saving to: ‘rows.csv?accessType=Download’\n",
            "\n",
            "rows.csv?accessType     [              <=>   ]   1.56G  3.38MB/s    in 8m 9s   \n",
            "\n",
            "2020-03-10 22:22:19 (3.26 MB/s) - ‘rows.csv?accessType=Download’ saved [1670514220]\n",
            "\n"
          ],
          "name": "stdout"
        }
      ]
    },
    {
      "cell_type": "code",
      "metadata": {
        "id": "0SlxsoZdnlRj",
        "colab_type": "code",
        "outputId": "c4363f54-2805-4db8-d10e-8360498ef70f",
        "colab": {
          "base_uri": "https://localhost:8080/",
          "height": 104
        }
      },
      "source": [
        "!ls -ltr"
      ],
      "execution_count": 0,
      "outputs": [
        {
          "output_type": "stream",
          "text": [
            "total 1856080\n",
            "drwxr-xr-x 13 1000 1000       4096 Aug 27  2019  spark-2.4.4-bin-hadoop2.7\n",
            "-rw-r--r--  1 root root  230091034 Aug 27  2019  spark-2.4.4-bin-hadoop2.7.tgz\n",
            "drwxr-xr-x  1 root root       4096 Mar  3 18:11  sample_data\n",
            "-rw-r--r--  1 root root 1670514220 Mar 10 11:19 'rows.csv?accessType=Download'\n"
          ],
          "name": "stdout"
        }
      ]
    },
    {
      "cell_type": "code",
      "metadata": {
        "id": "jH5EgYvimD6a",
        "colab_type": "code",
        "outputId": "77987828-3824-4dba-fdf0-ea75b9630066",
        "colab": {
          "base_uri": "https://localhost:8080/",
          "height": 35
        }
      },
      "source": [
        "!du -sh"
      ],
      "execution_count": 0,
      "outputs": [
        {
          "output_type": "stream",
          "text": [
            "2.1G\t.\n"
          ],
          "name": "stdout"
        }
      ]
    },
    {
      "cell_type": "code",
      "metadata": {
        "id": "pCMugdwNlX3c",
        "colab_type": "code",
        "colab": {}
      },
      "source": [
        "mv rows.csv?accessType=Download reported-crimes.csv"
      ],
      "execution_count": 0,
      "outputs": []
    },
    {
      "cell_type": "code",
      "metadata": {
        "id": "dmpELYQ6rfhM",
        "colab_type": "code",
        "outputId": "33cbe1f9-7798-4aae-dad3-2038dc18fb0f",
        "colab": {
          "base_uri": "https://localhost:8080/",
          "height": 104
        }
      },
      "source": [
        "!ls -ltr"
      ],
      "execution_count": 0,
      "outputs": [
        {
          "output_type": "stream",
          "text": [
            "total 1856080\n",
            "drwxr-xr-x 13 1000 1000       4096 Aug 27  2019 spark-2.4.4-bin-hadoop2.7\n",
            "-rw-r--r--  1 root root  230091034 Aug 27  2019 spark-2.4.4-bin-hadoop2.7.tgz\n",
            "drwxr-xr-x  1 root root       4096 Mar  3 18:11 sample_data\n",
            "-rw-r--r--  1 root root 1670514220 Mar 10 11:19 reported-crimes.csv\n"
          ],
          "name": "stdout"
        }
      ]
    },
    {
      "cell_type": "code",
      "metadata": {
        "id": "nZ11bn-FkzpH",
        "colab_type": "code",
        "outputId": "a5bcd9d1-6ba3-42f2-bf58-43f282e092cd",
        "colab": {
          "base_uri": "https://localhost:8080/",
          "height": 219
        }
      },
      "source": [
        "import os\n",
        "os.environ[\"JAVA_HOME\"] = \"/usr/lib/jvm/java-8-openjdk-amd64\"\n",
        "os.environ[\"SPARK_HOME\"] = \"/content/spark-2.4.4-bin-hadoop2.7\"\n",
        "\n",
        "import findspark\n",
        "findspark.init()\n",
        "#from pyspark import SparkContext\n",
        "#sc = SparkContext.getOrCreate()\n",
        "\n",
        "import pyspark\n",
        "from pyspark.sql import SparkSession\n",
        "spark = SparkSession.builder \\\n",
        "        .master('local')  \\\n",
        "        .appName(\"sparkV\") \\\n",
        "        .getOrCreate() \n",
        "spark"
      ],
      "execution_count": 0,
      "outputs": [
        {
          "output_type": "execute_result",
          "data": {
            "text/html": [
              "\n",
              "            <div>\n",
              "                <p><b>SparkSession - in-memory</b></p>\n",
              "                \n",
              "        <div>\n",
              "            <p><b>SparkContext</b></p>\n",
              "\n",
              "            <p><a href=\"http://edfcfd140876:4040\">Spark UI</a></p>\n",
              "\n",
              "            <dl>\n",
              "              <dt>Version</dt>\n",
              "                <dd><code>v2.4.4</code></dd>\n",
              "              <dt>Master</dt>\n",
              "                <dd><code>local</code></dd>\n",
              "              <dt>AppName</dt>\n",
              "                <dd><code>sparkV</code></dd>\n",
              "            </dl>\n",
              "        </div>\n",
              "        \n",
              "            </div>\n",
              "        "
            ],
            "text/plain": [
              "<pyspark.sql.session.SparkSession at 0x7faba2b64fd0>"
            ]
          },
          "metadata": {
            "tags": []
          },
          "execution_count": 14
        }
      ]
    },
    {
      "cell_type": "code",
      "metadata": {
        "id": "b1DIkzJVr1Kh",
        "colab_type": "code",
        "colab": {}
      },
      "source": [
        "'''\n",
        ">>> spark = SparkSession.builder \\\n",
        "...     .master(\"local\") \\\n",
        "...     .appName(\"Word Count\") \\\n",
        "...     .config(\"spark.some.config.option\", \"some-value\") \\\n",
        "...     .getOrCreate()\n",
        "'''"
      ],
      "execution_count": 0,
      "outputs": []
    },
    {
      "cell_type": "code",
      "metadata": {
        "id": "6Avzn_hRtGwM",
        "colab_type": "code",
        "outputId": "64fea862-4571-4d5e-a553-55bb8adf4619",
        "colab": {
          "base_uri": "https://localhost:8080/",
          "height": 70
        }
      },
      "source": [
        "%%time\n",
        "print(\"Hello\")"
      ],
      "execution_count": 0,
      "outputs": [
        {
          "output_type": "stream",
          "text": [
            "Hello\n",
            "CPU times: user 1.4 ms, sys: 60 µs, total: 1.46 ms\n",
            "Wall time: 1.22 ms\n"
          ],
          "name": "stdout"
        }
      ]
    },
    {
      "cell_type": "code",
      "metadata": {
        "id": "I3Jv8pRTtHlw",
        "colab_type": "code",
        "colab": {}
      },
      "source": [
        "rawDataDF = spark.read.csv(\"reported-crimes.csv\",header=True,inferSchema=True)"
      ],
      "execution_count": 0,
      "outputs": []
    },
    {
      "cell_type": "code",
      "metadata": {
        "id": "VozXhvU815vi",
        "colab_type": "code",
        "colab": {}
      },
      "source": [
        "rawDataColumnsList = rawDataDF.columns"
      ],
      "execution_count": 0,
      "outputs": []
    },
    {
      "cell_type": "code",
      "metadata": {
        "id": "O4iDOLes2TJT",
        "colab_type": "code",
        "outputId": "a04d2ae1-ff19-45c3-b911-252c4f81b4df",
        "colab": {
          "base_uri": "https://localhost:8080/",
          "height": 35
        }
      },
      "source": [
        "len(rawDataColumnsList)"
      ],
      "execution_count": 0,
      "outputs": [
        {
          "output_type": "execute_result",
          "data": {
            "text/plain": [
              "22"
            ]
          },
          "metadata": {
            "tags": []
          },
          "execution_count": 18
        }
      ]
    },
    {
      "cell_type": "code",
      "metadata": {
        "id": "uEFAYfGs2BNE",
        "colab_type": "code",
        "outputId": "bb174924-53bb-4084-cb4a-d6e779e75e32",
        "colab": {
          "base_uri": "https://localhost:8080/",
          "height": 439
        }
      },
      "source": [
        "rawDataDF.printSchema()"
      ],
      "execution_count": 0,
      "outputs": [
        {
          "output_type": "stream",
          "text": [
            "root\n",
            " |-- ID: integer (nullable = true)\n",
            " |-- Case Number: string (nullable = true)\n",
            " |-- Date: string (nullable = true)\n",
            " |-- Block: string (nullable = true)\n",
            " |-- IUCR: string (nullable = true)\n",
            " |-- Primary Type: string (nullable = true)\n",
            " |-- Description: string (nullable = true)\n",
            " |-- Location Description: string (nullable = true)\n",
            " |-- Arrest: boolean (nullable = true)\n",
            " |-- Domestic: boolean (nullable = true)\n",
            " |-- Beat: integer (nullable = true)\n",
            " |-- District: integer (nullable = true)\n",
            " |-- Ward: integer (nullable = true)\n",
            " |-- Community Area: integer (nullable = true)\n",
            " |-- FBI Code: string (nullable = true)\n",
            " |-- X Coordinate: integer (nullable = true)\n",
            " |-- Y Coordinate: integer (nullable = true)\n",
            " |-- Year: integer (nullable = true)\n",
            " |-- Updated On: string (nullable = true)\n",
            " |-- Latitude: double (nullable = true)\n",
            " |-- Longitude: double (nullable = true)\n",
            " |-- Location: string (nullable = true)\n",
            "\n"
          ],
          "name": "stdout"
        }
      ]
    },
    {
      "cell_type": "code",
      "metadata": {
        "id": "m3hIJHiJ2SCT",
        "colab_type": "code",
        "outputId": "1c467c36-a596-45b2-b8be-5f0a45c1e938",
        "colab": {
          "base_uri": "https://localhost:8080/",
          "height": 55
        }
      },
      "source": [
        "rawDataDF.printSchema"
      ],
      "execution_count": 0,
      "outputs": [
        {
          "output_type": "execute_result",
          "data": {
            "text/plain": [
              "<bound method DataFrame.printSchema of DataFrame[ID: int, Case Number: string, Date: string, Block: string, IUCR: string, Primary Type: string, Description: string, Location Description: string, Arrest: boolean, Domestic: boolean, Beat: int, District: int, Ward: int, Community Area: int, FBI Code: string, X Coordinate: int, Y Coordinate: int, Year: int, Updated On: string, Latitude: double, Longitude: double, Location: string]>"
            ]
          },
          "metadata": {
            "tags": []
          },
          "execution_count": 22
        }
      ]
    },
    {
      "cell_type": "code",
      "metadata": {
        "id": "pCUp95Y12KvQ",
        "colab_type": "code",
        "outputId": "d711767c-8829-42c9-a1e4-8c6b19783a7f",
        "colab": {
          "base_uri": "https://localhost:8080/",
          "height": 404
        }
      },
      "source": [
        "rawDataDF.dtypes"
      ],
      "execution_count": 0,
      "outputs": [
        {
          "output_type": "execute_result",
          "data": {
            "text/plain": [
              "[('ID', 'int'),\n",
              " ('Case Number', 'string'),\n",
              " ('Date', 'string'),\n",
              " ('Block', 'string'),\n",
              " ('IUCR', 'string'),\n",
              " ('Primary Type', 'string'),\n",
              " ('Description', 'string'),\n",
              " ('Location Description', 'string'),\n",
              " ('Arrest', 'boolean'),\n",
              " ('Domestic', 'boolean'),\n",
              " ('Beat', 'int'),\n",
              " ('District', 'int'),\n",
              " ('Ward', 'int'),\n",
              " ('Community Area', 'int'),\n",
              " ('FBI Code', 'string'),\n",
              " ('X Coordinate', 'int'),\n",
              " ('Y Coordinate', 'int'),\n",
              " ('Year', 'int'),\n",
              " ('Updated On', 'string'),\n",
              " ('Latitude', 'double'),\n",
              " ('Longitude', 'double'),\n",
              " ('Location', 'string')]"
            ]
          },
          "metadata": {
            "tags": []
          },
          "execution_count": 51
        }
      ]
    },
    {
      "cell_type": "code",
      "metadata": {
        "id": "uaBgAHEx3fya",
        "colab_type": "code",
        "outputId": "75e7a58c-e04f-4f44-e981-e0cff5b8b428",
        "colab": {
          "base_uri": "https://localhost:8080/",
          "height": 35
        }
      },
      "source": [
        "type(rawDataDF.dtypes)#[0][1]"
      ],
      "execution_count": 0,
      "outputs": [
        {
          "output_type": "execute_result",
          "data": {
            "text/plain": [
              "list"
            ]
          },
          "metadata": {
            "tags": []
          },
          "execution_count": 58
        }
      ]
    },
    {
      "cell_type": "code",
      "metadata": {
        "id": "YAzMngnu3j7g",
        "colab_type": "code",
        "outputId": "86ca9b85-1c76-4a78-ebc1-d007014e2a14",
        "colab": {
          "base_uri": "https://localhost:8080/",
          "height": 35
        }
      },
      "source": [
        "rawDataDF.dtypes[0][1]"
      ],
      "execution_count": 0,
      "outputs": [
        {
          "output_type": "execute_result",
          "data": {
            "text/plain": [
              "'int'"
            ]
          },
          "metadata": {
            "tags": []
          },
          "execution_count": 59
        }
      ]
    },
    {
      "cell_type": "code",
      "metadata": {
        "id": "0FqWaMq-4ufm",
        "colab_type": "code",
        "outputId": "72cf9290-670c-4977-c47f-a995de4b0549",
        "colab": {
          "base_uri": "https://localhost:8080/",
          "height": 35
        }
      },
      "source": [
        "rawDataDF.select('Location').dtypes[0][1]"
      ],
      "execution_count": 0,
      "outputs": [
        {
          "output_type": "execute_result",
          "data": {
            "text/plain": [
              "'string'"
            ]
          },
          "metadata": {
            "tags": []
          },
          "execution_count": 69
        }
      ]
    },
    {
      "cell_type": "code",
      "metadata": {
        "id": "yJTUR3py5HMZ",
        "colab_type": "code",
        "colab": {}
      },
      "source": [
        "#from pyspark.sql.functions import to_timestamp,col,lit\n",
        "#rc = spark.read.csv('reported-crimes.csv',header=True).withColumn('Date',to_timestamp(col('Date'),'MM/dd/yyyy hh:mm:ss a')).filter(col('Date') <= lit('2018-11-11'))\n",
        "#rc.show(5)"
      ],
      "execution_count": 0,
      "outputs": []
    },
    {
      "cell_type": "code",
      "metadata": {
        "id": "UE2-d41Y-zp-",
        "colab_type": "code",
        "outputId": "6f9309f2-3733-44ec-d95f-2f013c712877",
        "colab": {
          "base_uri": "https://localhost:8080/",
          "height": 195
        }
      },
      "source": [
        "rawDataDF.show(3,False)"
      ],
      "execution_count": 0,
      "outputs": [
        {
          "output_type": "stream",
          "text": [
            "+--------+-----------+----------------------+------------------+----+-------------------+-----------------------------------+--------------------+------+--------+----+--------+----+--------------+--------+------------+------------+----+----------------------+--------+---------+--------+\n",
            "|ID      |Case Number|Date                  |Block             |IUCR|Primary Type       |Description                        |Location Description|Arrest|Domestic|Beat|District|Ward|Community Area|FBI Code|X Coordinate|Y Coordinate|Year|Updated On            |Latitude|Longitude|Location|\n",
            "+--------+-----------+----------------------+------------------+----+-------------------+-----------------------------------+--------------------+------+--------+----+--------+----+--------------+--------+------------+------------+----+----------------------+--------+---------+--------+\n",
            "|11034701|JA366925   |01/01/2001 11:00:00 AM|016XX E 86TH PL   |1153|DECEPTIVE PRACTICE |FINANCIAL IDENTITY THEFT OVER $ 300|RESIDENCE           |false |false   |412 |4       |8   |45            |11      |null        |null        |2001|08/05/2017 03:50:08 PM|null    |null     |null    |\n",
            "|11227287|JB147188   |10/08/2017 03:00:00 AM|092XX S RACINE AVE|0281|CRIM SEXUAL ASSAULT|NON-AGGRAVATED                     |RESIDENCE           |false |false   |2222|22      |21  |73            |02      |null        |null        |2017|02/11/2018 03:57:41 PM|null    |null     |null    |\n",
            "|11227583|JB147595   |03/28/2017 02:00:00 PM|026XX W 79TH ST   |0620|BURGLARY           |UNLAWFUL ENTRY                     |OTHER               |false |false   |835 |8       |18  |70            |05      |null        |null        |2017|02/11/2018 03:57:41 PM|null    |null     |null    |\n",
            "+--------+-----------+----------------------+------------------+----+-------------------+-----------------------------------+--------------------+------+--------+----+--------+----+--------------+--------+------------+------------+----+----------------------+--------+---------+--------+\n",
            "only showing top 3 rows\n",
            "\n"
          ],
          "name": "stdout"
        }
      ]
    },
    {
      "cell_type": "code",
      "metadata": {
        "id": "UHp06usL-2u4",
        "colab_type": "code",
        "outputId": "8fa25419-95a5-47d9-bff7-3dafb6dab723",
        "colab": {
          "base_uri": "https://localhost:8080/",
          "height": 35
        }
      },
      "source": [
        "rawDataDF.count()"
      ],
      "execution_count": 0,
      "outputs": [
        {
          "output_type": "execute_result",
          "data": {
            "text/plain": [
              "7059829"
            ]
          },
          "metadata": {
            "tags": []
          },
          "execution_count": 72
        }
      ]
    },
    {
      "cell_type": "code",
      "metadata": {
        "id": "ygNnr2Nr-55l",
        "colab_type": "code",
        "colab": {}
      },
      "source": [
        "from pyspark.sql.functions import col,lit,to_timestamp"
      ],
      "execution_count": 0,
      "outputs": []
    },
    {
      "cell_type": "code",
      "metadata": {
        "id": "d0sFFWiw_T9y",
        "colab_type": "code",
        "outputId": "77ed0f69-c6d7-4fe3-f8ab-600ebf99be6e",
        "colab": {
          "base_uri": "https://localhost:8080/",
          "height": 35
        }
      },
      "source": [
        "rawDataDF.select('Latitude').where(col('Latitude').isNotNull()).count()"
      ],
      "execution_count": 0,
      "outputs": [
        {
          "output_type": "execute_result",
          "data": {
            "text/plain": [
              "6992177"
            ]
          },
          "metadata": {
            "tags": []
          },
          "execution_count": 74
        }
      ]
    },
    {
      "cell_type": "code",
      "metadata": {
        "id": "9pbFf_RV_pHq",
        "colab_type": "code",
        "cellView": "code",
        "colab": {}
      },
      "source": [
        "#@title Default title text\n",
        "from pyspark.sql.functions import to_timestamp,col,lit\n",
        "rc = spark.read.csv('reported-crimes.csv',header=True).withColumn('Date',to_timestamp(col('Date'),'MM/dd/yyyy hh:mm:ss a')).filter(col('Date') <= lit('2018-11-11'))\n",
        "rc.show(5)"
      ],
      "execution_count": 0,
      "outputs": []
    },
    {
      "cell_type": "code",
      "metadata": {
        "id": "RUu7XqV7yMwk",
        "colab_type": "code",
        "colab": {}
      },
      "source": [
        "from pyspark.sql.functions import to_timestamp,col,lit\n",
        "rc = spark.read.csv('reported-crimes.csv',header=True).withColumn('Date',to_timestamp(col('Date'),'MM/dd/yyyy hh:mm:ss a')).filter(col('Date') <= lit('2018-11-11'))\n",
        "rc.show(5)"
      ],
      "execution_count": 0,
      "outputs": []
    },
    {
      "cell_type": "markdown",
      "metadata": {
        "id": "w115H-styXQt",
        "colab_type": "text"
      },
      "source": [
        "#Schemas"
      ]
    },
    {
      "cell_type": "code",
      "metadata": {
        "id": "3YfIqfVSySA6",
        "colab_type": "code",
        "colab": {}
      },
      "source": [
        "type(rc)"
      ],
      "execution_count": 0,
      "outputs": []
    },
    {
      "cell_type": "code",
      "metadata": {
        "id": "5kGOwxCGydlJ",
        "colab_type": "code",
        "colab": {}
      },
      "source": [
        "rc.printSchema()"
      ],
      "execution_count": 0,
      "outputs": []
    },
    {
      "cell_type": "code",
      "metadata": {
        "id": "SQr9RGvLygKv",
        "colab_type": "code",
        "colab": {}
      },
      "source": [
        "from pyspark.sql.types import StructType, StructField, StringType, TimestampType, BooleanType, DoubleType, IntegerType"
      ],
      "execution_count": 0,
      "outputs": []
    },
    {
      "cell_type": "code",
      "metadata": {
        "id": "bQEG5HAMyiru",
        "colab_type": "code",
        "colab": {}
      },
      "source": [
        "rc.columns"
      ],
      "execution_count": 0,
      "outputs": []
    },
    {
      "cell_type": "code",
      "metadata": {
        "id": "QmnMQBl1ymy-",
        "colab_type": "code",
        "colab": {}
      },
      "source": [
        "schema = StructType([\n",
        "    StructField('ID', StringType, True),\n",
        " StructField('Case Number', StringType, True),\n",
        " StructField('Date', TimestampType, True),\n",
        " 'Block',\n",
        " 'IUCR',\n",
        " 'Primary Type',\n",
        " 'Description',\n",
        " 'Location Description',\n",
        " 'Arrest',\n",
        " 'Domestic',\n",
        " 'Beat',\n",
        " 'District',\n",
        " 'Ward',\n",
        " 'Community Area',\n",
        " 'FBI Code',\n",
        " 'X Coordinate',\n",
        " 'Y Coordinate',\n",
        " 'Year',\n",
        " 'Updated On',\n",
        " 'Latitude',\n",
        " 'Longitude',\n",
        " 'Location',\n",
        " 'Historical Wards 2003-2015',\n",
        " 'Zip Codes',\n",
        " 'Community Areas',\n",
        " 'Census Tracts',\n",
        " 'Wards',\n",
        " 'Boundaries - ZIP Codes',\n",
        " 'Police Districts',\n",
        " 'Police Beats')\n",
        "])"
      ],
      "execution_count": 0,
      "outputs": []
    },
    {
      "cell_type": "code",
      "metadata": {
        "id": "0x_x_BCuypGh",
        "colab_type": "code",
        "colab": {}
      },
      "source": [
        "labels = [('ID',StringType()),\n",
        " ('Case Number',StringType()),\n",
        " ('Date',TimestampType()),\n",
        " ('Block',StringType()),\n",
        " ('IUCR',StringType()),\n",
        " ('Primary Type',StringType()),\n",
        " ('Description',StringType()),\n",
        " ('Location Description',StringType()),\n",
        " ('Arrest',StringType()),\n",
        " ('Domestic',BooleanType()),\n",
        " ('Beat',StringType()),\n",
        " ('District',StringType()),\n",
        " ('Ward',StringType()),\n",
        " ('Community Area',StringType()),\n",
        " ('FBI Code',StringType()),\n",
        " ('X Coordinate',StringType()),\n",
        " ('Y Coordinate',StringType()),\n",
        " ('Year',IntegerType()),\n",
        " ('Updated On',StringType()),\n",
        " ('Latitude',DoubleType()),\n",
        " ('Longitude',DoubleType()),\n",
        " ('Location',StringType()),\n",
        " ('Historical Wards 2003-2015',StringType()),\n",
        " ('Zip Codes',StringType()),\n",
        " ('Community Areas',StringType()),\n",
        " ('Census Tracts',StringType()),\n",
        " ('Wards',StringType()),\n",
        " ('Boundaries - ZIP Codes',StringType()),\n",
        " ('Police Districts',StringType()),\n",
        " ('Police Beats',StringType())]"
      ],
      "execution_count": 0,
      "outputs": []
    },
    {
      "cell_type": "code",
      "metadata": {
        "id": "ayAVASjrysuX",
        "colab_type": "code",
        "colab": {}
      },
      "source": [
        "schema = StructType([StructField(x[0],x[1],True) for x in labels])"
      ],
      "execution_count": 0,
      "outputs": []
    },
    {
      "cell_type": "code",
      "metadata": {
        "id": "5uCBfroJyunN",
        "colab_type": "code",
        "colab": {}
      },
      "source": [
        "schema"
      ],
      "execution_count": 0,
      "outputs": []
    },
    {
      "cell_type": "code",
      "metadata": {
        "id": "-Lz_rlRtywnJ",
        "colab_type": "code",
        "colab": {}
      },
      "source": [
        "rc = spark.read.csv('reported-crimes.csv',schema=schema)\n",
        "rc.printSchema()"
      ],
      "execution_count": 0,
      "outputs": []
    },
    {
      "cell_type": "code",
      "metadata": {
        "id": "oj6bQeDcyyw5",
        "colab_type": "code",
        "colab": {}
      },
      "source": [
        "!ls"
      ],
      "execution_count": 0,
      "outputs": []
    },
    {
      "cell_type": "code",
      "metadata": {
        "id": "vUJCIg0TyzZt",
        "colab_type": "code",
        "colab": {}
      },
      "source": [
        "rc.show(5)"
      ],
      "execution_count": 0,
      "outputs": []
    },
    {
      "cell_type": "code",
      "metadata": {
        "id": "0fhgr83wy0v2",
        "colab_type": "code",
        "colab": {}
      },
      "source": [
        "from pyspark.sql.functions import to_timestamp,col,lit\n",
        "rc = spark.read.csv('reported-crimes.csv',header=True).withColumn('Date',to_timestamp(col('Date'),'MM/dd/yyyy hh:mm:ss a')).filter(col('Date') <= lit('2018-11-11'))\n",
        "rc.show(5)"
      ],
      "execution_count": 0,
      "outputs": []
    },
    {
      "cell_type": "code",
      "metadata": {
        "id": "gGfy0xxdy_0M",
        "colab_type": "code",
        "colab": {}
      },
      "source": [
        "!ls"
      ],
      "execution_count": 0,
      "outputs": []
    },
    {
      "cell_type": "code",
      "metadata": {
        "id": "wkjeDMu-zByI",
        "colab_type": "code",
        "colab": {}
      },
      "source": [
        ""
      ],
      "execution_count": 0,
      "outputs": []
    },
    {
      "cell_type": "markdown",
      "metadata": {
        "id": "xPdEl2tlzE14",
        "colab_type": "text"
      },
      "source": [
        "## Working with columns"
      ]
    },
    {
      "cell_type": "code",
      "metadata": {
        "id": "IEpkn-rwzD9h",
        "colab_type": "code",
        "colab": {}
      },
      "source": [
        "## Working with columns"
      ],
      "execution_count": 0,
      "outputs": []
    },
    {
      "cell_type": "markdown",
      "metadata": {
        "id": "JZO_I3OFzNE1",
        "colab_type": "text"
      },
      "source": [
        "**Display only the first 5 rows of the column name IUCR **"
      ]
    },
    {
      "cell_type": "code",
      "metadata": {
        "id": "-1QNb3ofzGMF",
        "colab_type": "code",
        "colab": {}
      },
      "source": [
        "rc.unpersist() #‘or ‘sqlContext.uncacheTable(\"sparktable\") ‘"
      ],
      "execution_count": 0,
      "outputs": []
    },
    {
      "cell_type": "code",
      "metadata": {
        "id": "sxaseWT1zR_Y",
        "colab_type": "code",
        "colab": {}
      },
      "source": [
        "#df.unpersist() or rdd.unpersist() "
      ],
      "execution_count": 0,
      "outputs": []
    },
    {
      "cell_type": "code",
      "metadata": {
        "id": "f8tM8cchzSwF",
        "colab_type": "code",
        "colab": {}
      },
      "source": [
        "rc.select('IUCR').show(5)"
      ],
      "execution_count": 0,
      "outputs": []
    },
    {
      "cell_type": "code",
      "metadata": {
        "id": "hMnqlYGBzTOn",
        "colab_type": "code",
        "colab": {}
      },
      "source": [
        "rc.select(rc.IUCR).show(5)"
      ],
      "execution_count": 0,
      "outputs": []
    },
    {
      "cell_type": "code",
      "metadata": {
        "id": "uhkc2T2bzTcw",
        "colab_type": "code",
        "colab": {}
      },
      "source": [
        "rc.select(col('IUCR')).show(5)"
      ],
      "execution_count": 0,
      "outputs": []
    },
    {
      "cell_type": "markdown",
      "metadata": {
        "id": "EBVncE-UzePo",
        "colab_type": "text"
      },
      "source": [
        "  **Display only the first 4 rows of the column names Case Number, Date and Arrest**"
      ]
    },
    {
      "cell_type": "code",
      "metadata": {
        "id": "EQUaBXiLzTpQ",
        "colab_type": "code",
        "colab": {}
      },
      "source": [
        "rc.select('Case Number','Date', 'Arrest').show(4)"
      ],
      "execution_count": 0,
      "outputs": []
    },
    {
      "cell_type": "markdown",
      "metadata": {
        "id": "MfoRHSzizi5e",
        "colab_type": "text"
      },
      "source": [
        "** Add a column with name One, with entries all 1s **"
      ]
    },
    {
      "cell_type": "code",
      "metadata": {
        "id": "-eRwyieKzT1R",
        "colab_type": "code",
        "colab": {}
      },
      "source": [
        "from pyspark.sql.functions import lit"
      ],
      "execution_count": 0,
      "outputs": []
    },
    {
      "cell_type": "code",
      "metadata": {
        "id": "OKHKAcfpzUA6",
        "colab_type": "code",
        "colab": {}
      },
      "source": [
        "rc.withColumn('One',lit(1)).show(1)"
      ],
      "execution_count": 0,
      "outputs": []
    },
    {
      "cell_type": "code",
      "metadata": {
        "id": "z69Q31ktzULa",
        "colab_type": "code",
        "colab": {}
      },
      "source": [
        "rc = rc.drop('IUCR')\n",
        "rc.show(2)"
      ],
      "execution_count": 0,
      "outputs": []
    },
    {
      "cell_type": "code",
      "metadata": {
        "id": "JFDvsNJOzUXB",
        "colab_type": "code",
        "colab": {}
      },
      "source": [
        "** Remove the column IUCR **"
      ],
      "execution_count": 0,
      "outputs": []
    },
    {
      "cell_type": "markdown",
      "metadata": {
        "id": "sNMFGVeOzzsW",
        "colab_type": "text"
      },
      "source": [
        "# Working with rows"
      ]
    },
    {
      "cell_type": "markdown",
      "metadata": {
        "id": "nQFH5gpMz5k3",
        "colab_type": "text"
      },
      "source": [
        "## Working with rows"
      ]
    },
    {
      "cell_type": "markdown",
      "metadata": {
        "id": "ktzNE4Qez8xU",
        "colab_type": "text"
      },
      "source": [
        "**Add the reported crimes for an additional day, 12-Nov-2018, to our dataset.**"
      ]
    },
    {
      "cell_type": "code",
      "metadata": {
        "id": "pgcUPzgSzUhO",
        "colab_type": "code",
        "colab": {}
      },
      "source": [
        "one_day = spark.read.csv('reported-crimes.csv',header=True).withColumn('Date',to_timestamp(col('Date'),'MM/dd/yyyy hh:mm:ss a')).filter(col('Date') == lit('2018-11-12'))"
      ],
      "execution_count": 0,
      "outputs": []
    },
    {
      "cell_type": "code",
      "metadata": {
        "id": "2AscEirPzUrw",
        "colab_type": "code",
        "colab": {}
      },
      "source": [
        "one_day.count()"
      ],
      "execution_count": 0,
      "outputs": []
    },
    {
      "cell_type": "code",
      "metadata": {
        "id": "zAZyZ6ny0G2E",
        "colab_type": "code",
        "colab": {}
      },
      "source": [
        "rc.union(one_day).orderBy('Date', ascending=False).show(5)"
      ],
      "execution_count": 0,
      "outputs": []
    },
    {
      "cell_type": "markdown",
      "metadata": {
        "id": "JGb4Oei-0NME",
        "colab_type": "text"
      },
      "source": [
        "**What are the top 10 number of reported crimes by Primary type, in descending order of occurence?**"
      ]
    },
    {
      "cell_type": "code",
      "metadata": {
        "id": "6Wrn3Unb0HE0",
        "colab_type": "code",
        "colab": {}
      },
      "source": [
        "rc.groupBy('Primary Type').count().show()"
      ],
      "execution_count": 0,
      "outputs": []
    },
    {
      "cell_type": "code",
      "metadata": {
        "id": "fG9czRFa0HN-",
        "colab_type": "code",
        "colab": {}
      },
      "source": [
        "rc.groupBy('Primary Type').count().orderBy('count', ascending =False).show(10)"
      ],
      "execution_count": 0,
      "outputs": []
    },
    {
      "cell_type": "markdown",
      "metadata": {
        "id": "FJcOvivB0anM",
        "colab_type": "text"
      },
      "source": [
        "## Challenge questions"
      ]
    },
    {
      "cell_type": "markdown",
      "metadata": {
        "id": "vJcz3Bk70d2G",
        "colab_type": "text"
      },
      "source": [
        "**What percentage of reported crimes resulted in an arrest?**"
      ]
    },
    {
      "cell_type": "code",
      "metadata": {
        "id": "NRHJbjFJ0HXd",
        "colab_type": "code",
        "colab": {}
      },
      "source": [
        "rc.columns"
      ],
      "execution_count": 0,
      "outputs": []
    },
    {
      "cell_type": "code",
      "metadata": {
        "id": "gQJRwCXR0Heh",
        "colab_type": "code",
        "colab": {}
      },
      "source": [
        "rc.select('Arrest').distinct().show()"
      ],
      "execution_count": 0,
      "outputs": []
    },
    {
      "cell_type": "code",
      "metadata": {
        "id": "rfbO2Iju0HnT",
        "colab_type": "code",
        "colab": {}
      },
      "source": [
        "rc.select('Arrest').printSchema()"
      ],
      "execution_count": 0,
      "outputs": []
    },
    {
      "cell_type": "code",
      "metadata": {
        "id": "5GC_FQZl0Hvr",
        "colab_type": "code",
        "colab": {}
      },
      "source": [
        "rc.select('Arrest').groupBy('Arrest').count().show()"
      ],
      "execution_count": 0,
      "outputs": []
    },
    {
      "cell_type": "code",
      "metadata": {
        "id": "LYG2DxRM0H3w",
        "colab_type": "code",
        "colab": {}
      },
      "source": [
        "(rc.filter(col('Arrest')=='true').count()/ rc.select('Arrest').count())*100"
      ],
      "execution_count": 0,
      "outputs": []
    },
    {
      "cell_type": "markdown",
      "metadata": {
        "id": "JX9FNXG80qK4",
        "colab_type": "text"
      },
      "source": [
        "  **What are the top 3 locations for reported crimes?**"
      ]
    },
    {
      "cell_type": "code",
      "metadata": {
        "id": "iRvXHEYd0H_d",
        "colab_type": "code",
        "colab": {}
      },
      "source": [
        "rc.groupBy('Location Description').count().show()"
      ],
      "execution_count": 0,
      "outputs": []
    },
    {
      "cell_type": "code",
      "metadata": {
        "id": "jwk95YS50IHo",
        "colab_type": "code",
        "colab": {}
      },
      "source": [
        "rc.groupBy('Location Description').count().orderBy('count', ascending=False).show(3)"
      ],
      "execution_count": 0,
      "outputs": []
    },
    {
      "cell_type": "markdown",
      "metadata": {
        "id": "7JWGonwt05cM",
        "colab_type": "text"
      },
      "source": [
        "**What is the most frequently reported non-criminal activity?**"
      ]
    },
    {
      "cell_type": "code",
      "metadata": {
        "id": "bsx9anTx0IPt",
        "colab_type": "code",
        "colab": {}
      },
      "source": [
        "rc.cache()\n",
        "rc.count()"
      ],
      "execution_count": 0,
      "outputs": []
    },
    {
      "cell_type": "code",
      "metadata": {
        "id": "xMsfJIC20IXa",
        "colab_type": "code",
        "colab": {}
      },
      "source": [
        "rc.select(col('Primary Type')).distinct().count()"
      ],
      "execution_count": 0,
      "outputs": []
    },
    {
      "cell_type": "code",
      "metadata": {
        "id": "H0vDMb9D08ci",
        "colab_type": "code",
        "colab": {}
      },
      "source": [
        "rc.select(col('Primary Type')).distinct().show(35)"
      ],
      "execution_count": 0,
      "outputs": []
    },
    {
      "cell_type": "code",
      "metadata": {
        "id": "j6rLYuRm08lx",
        "colab_type": "code",
        "colab": {}
      },
      "source": [
        "rc.select(col('Primary Type')).distinct().orderBy(col('Primary Type')).show(35,truncate=False)"
      ],
      "execution_count": 0,
      "outputs": []
    },
    {
      "cell_type": "code",
      "metadata": {
        "id": "I5QPhmEx08ut",
        "colab_type": "code",
        "colab": {}
      },
      "source": [
        "nc = rc.filter((col('Primary Type') == 'NON - CRIMINAL')| (col('Primary Type') == 'NON-CRIMINAL') | (col('Primary Type') == 'NON-CRIMINAL (SUBJECT SPECIFIED)'))\n",
        "nc.show(50, truncate =False)"
      ],
      "execution_count": 0,
      "outputs": []
    },
    {
      "cell_type": "code",
      "metadata": {
        "id": "pSbsg2zP082t",
        "colab_type": "code",
        "colab": {}
      },
      "source": [
        "nc.groupBy(col('Description')).count().orderBy('count',ascending=False).show(truncate = False)"
      ],
      "execution_count": 0,
      "outputs": []
    },
    {
      "cell_type": "markdown",
      "metadata": {
        "id": "yo-sZKxr1Irq",
        "colab_type": "text"
      },
      "source": [
        "**Using a bar chart, plot which day of the week has the most number of reported crime. \n",
        "**"
      ]
    },
    {
      "cell_type": "code",
      "metadata": {
        "id": "aro8UeDd08_c",
        "colab_type": "code",
        "colab": {}
      },
      "source": [
        "from pyspark.sql.functions import dayofweek"
      ],
      "execution_count": 0,
      "outputs": []
    },
    {
      "cell_type": "code",
      "metadata": {
        "id": "aW7cCnqu09Hf",
        "colab_type": "code",
        "colab": {}
      },
      "source": [
        "help(dayofweek)"
      ],
      "execution_count": 0,
      "outputs": []
    },
    {
      "cell_type": "code",
      "metadata": {
        "id": "YNQZpIFp09Pk",
        "colab_type": "code",
        "colab": {}
      },
      "source": [
        "rc.show(truncate=False)"
      ],
      "execution_count": 0,
      "outputs": []
    },
    {
      "cell_type": "code",
      "metadata": {
        "id": "gyiqt8a309XV",
        "colab_type": "code",
        "colab": {}
      },
      "source": [
        "rc.select(col('Date'),dayofweek(col('Date'))).show(5,truncate=False)"
      ],
      "execution_count": 0,
      "outputs": []
    },
    {
      "cell_type": "code",
      "metadata": {
        "id": "MltpwBG609ex",
        "colab_type": "code",
        "colab": {}
      },
      "source": [
        "from pyspark.sql.functions import date_format"
      ],
      "execution_count": 0,
      "outputs": []
    },
    {
      "cell_type": "code",
      "metadata": {
        "id": "OmWqo6J_09m5",
        "colab_type": "code",
        "colab": {}
      },
      "source": [
        "help(date_format)"
      ],
      "execution_count": 0,
      "outputs": []
    },
    {
      "cell_type": "code",
      "metadata": {
        "id": "JeHbGADa09vT",
        "colab_type": "code",
        "colab": {}
      },
      "source": [
        "rc.select(col('Date'),dayofweek(col('Date')),date_format(col('Date'),'E')).show(5,truncate=False)"
      ],
      "execution_count": 0,
      "outputs": []
    },
    {
      "cell_type": "code",
      "metadata": {
        "id": "RezodACj092L",
        "colab_type": "code",
        "colab": {}
      },
      "source": [
        "rc.groupBy(date_format(col('Date'),'E')).count().orderBy('count',ascending=False).show(truncate=False)"
      ],
      "execution_count": 0,
      "outputs": []
    },
    {
      "cell_type": "code",
      "metadata": {
        "id": "zCn1ZaGo0Ifn",
        "colab_type": "code",
        "colab": {}
      },
      "source": [
        "rc.groupBy(date_format(col('Date'),'E')).count().collect()"
      ],
      "execution_count": 0,
      "outputs": []
    },
    {
      "cell_type": "code",
      "metadata": {
        "id": "0IemA-Lm1Z81",
        "colab_type": "code",
        "colab": {}
      },
      "source": [
        "dow = [x[0] for x in rc.groupBy(date_format(col('Date'),'E')).count().collect()]\n",
        "dow"
      ],
      "execution_count": 0,
      "outputs": []
    },
    {
      "cell_type": "code",
      "metadata": {
        "id": "ES0isb2g1aDx",
        "colab_type": "code",
        "colab": {}
      },
      "source": [
        "cnt = [x[1] for x in rc.groupBy(date_format(col('Date'),'E')).count().collect()]\n",
        "cnt"
      ],
      "execution_count": 0,
      "outputs": []
    },
    {
      "cell_type": "code",
      "metadata": {
        "id": "QXB2ck9b1aKh",
        "colab_type": "code",
        "colab": {}
      },
      "source": [
        "import pandas as pd\n",
        "import matplotlib.pyplot as plt"
      ],
      "execution_count": 0,
      "outputs": []
    },
    {
      "cell_type": "code",
      "metadata": {
        "id": "yUq08ssv1aQs",
        "colab_type": "code",
        "colab": {}
      },
      "source": [
        "cp = pd.DataFrame({'day_of_week':dow, 'count':cnt })"
      ],
      "execution_count": 0,
      "outputs": []
    },
    {
      "cell_type": "code",
      "metadata": {
        "id": "WfsvfWtE1aXO",
        "colab_type": "code",
        "colab": {}
      },
      "source": [
        "cp.head(7)"
      ],
      "execution_count": 0,
      "outputs": []
    },
    {
      "cell_type": "code",
      "metadata": {
        "id": "9Z-jqxtV1aem",
        "colab_type": "code",
        "colab": {}
      },
      "source": [
        "cp.sort_values('count', ascending=False).plot(kind='bar',color = 'olive',x ='day_of_week',y='count')\n",
        "plt.xlabel('Day of the week')\n",
        "plt.ylabel('No. of reported crimes')\n",
        "plt.title('No. of reported crimes per day from 2001 to present')"
      ],
      "execution_count": 0,
      "outputs": []
    },
    {
      "cell_type": "markdown",
      "metadata": {
        "id": "9Z6IPNBZ1veV",
        "colab_type": "text"
      },
      "source": [
        "## Built-in functions"
      ]
    },
    {
      "cell_type": "code",
      "metadata": {
        "id": "BCB1kixd1amH",
        "colab_type": "code",
        "colab": {}
      },
      "source": [
        "from pyspark.sql import functions"
      ],
      "execution_count": 0,
      "outputs": []
    },
    {
      "cell_type": "code",
      "metadata": {
        "id": "iy3An_F21atF",
        "colab_type": "code",
        "colab": {}
      },
      "source": [
        "print(dir(functions))"
      ],
      "execution_count": 0,
      "outputs": []
    },
    {
      "cell_type": "markdown",
      "metadata": {
        "id": "FjPEr6Zd12vt",
        "colab_type": "text"
      },
      "source": [
        "## String functions"
      ]
    },
    {
      "cell_type": "markdown",
      "metadata": {
        "id": "YbfCnvWk153t",
        "colab_type": "text"
      },
      "source": [
        "**Display the Primary Type column in lower and upper characters, and the first 4 characters of the column**"
      ]
    },
    {
      "cell_type": "code",
      "metadata": {
        "id": "Mn2VT_7Z1az5",
        "colab_type": "code",
        "colab": {}
      },
      "source": [
        "from pyspark.sql.functions import lower, upper, substring"
      ],
      "execution_count": 0,
      "outputs": []
    },
    {
      "cell_type": "code",
      "metadata": {
        "id": "1pYfuvKc1a7u",
        "colab_type": "code",
        "colab": {}
      },
      "source": [
        "help(substring)"
      ],
      "execution_count": 0,
      "outputs": []
    },
    {
      "cell_type": "code",
      "metadata": {
        "id": "hZS4wc6V1bB9",
        "colab_type": "code",
        "colab": {}
      },
      "source": [
        "rc.printSchema()"
      ],
      "execution_count": 0,
      "outputs": []
    },
    {
      "cell_type": "code",
      "metadata": {
        "id": "zLn1vF9I2AIY",
        "colab_type": "code",
        "colab": {}
      },
      "source": [
        "rc.select(lower(col('Primary Type')).alias('primary_type_lower'), upper(col('Primary Type')).alias('PRIMARY_TYPE_UPPER'), substring(col('Primary Type'),1,4).alias('primary_type_four')).show(5)"
      ],
      "execution_count": 0,
      "outputs": []
    },
    {
      "cell_type": "markdown",
      "metadata": {
        "id": "VWPTOCEr2GFy",
        "colab_type": "text"
      },
      "source": [
        "## Numeric functions\n"
      ]
    },
    {
      "cell_type": "markdown",
      "metadata": {
        "id": "fs_KsY8U2JYv",
        "colab_type": "text"
      },
      "source": [
        "**Show the oldest date and the most recent date**"
      ]
    },
    {
      "cell_type": "code",
      "metadata": {
        "id": "Q8bS7SjK2APt",
        "colab_type": "code",
        "colab": {}
      },
      "source": [
        "from pyspark.sql.functions import min, max"
      ],
      "execution_count": 0,
      "outputs": []
    },
    {
      "cell_type": "code",
      "metadata": {
        "id": "pISyvEdS2AXM",
        "colab_type": "code",
        "colab": {}
      },
      "source": [
        "rc.select(min(col('Date')).alias('min_date'),max(col('Date')).alias('max_date')).show(1)"
      ],
      "execution_count": 0,
      "outputs": []
    },
    {
      "cell_type": "code",
      "metadata": {
        "id": "8MiyFy9J2AfV",
        "colab_type": "code",
        "colab": {}
      },
      "source": [
        "rc.select(min(col('Date')),max(col('Date'))).show(1)"
      ],
      "execution_count": 0,
      "outputs": []
    },
    {
      "cell_type": "markdown",
      "metadata": {
        "id": "N4WEXdJ62Qfn",
        "colab_type": "text"
      },
      "source": [
        "## Date"
      ]
    },
    {
      "cell_type": "markdown",
      "metadata": {
        "id": "7zIXovug2TxZ",
        "colab_type": "text"
      },
      "source": [
        "** What is 3 days earlier that the oldest date and 3 days later than the most recent date?**"
      ]
    },
    {
      "cell_type": "code",
      "metadata": {
        "id": "Md5JHPMg2Al_",
        "colab_type": "code",
        "colab": {}
      },
      "source": [
        "    from pyspark.sql.functions import date_add, date_sub"
      ],
      "execution_count": 0,
      "outputs": []
    },
    {
      "cell_type": "code",
      "metadata": {
        "id": "H9mXazuV2Atz",
        "colab_type": "code",
        "colab": {}
      },
      "source": [
        "help(date_add) "
      ],
      "execution_count": 0,
      "outputs": []
    },
    {
      "cell_type": "code",
      "metadata": {
        "id": "lFEZ2tqs2A1F",
        "colab_type": "code",
        "colab": {}
      },
      "source": [
        "help(date_sub)"
      ],
      "execution_count": 0,
      "outputs": []
    },
    {
      "cell_type": "code",
      "metadata": {
        "id": "1WUV7Zqa2A8O",
        "colab_type": "code",
        "colab": {}
      },
      "source": [
        "rc.select(date_sub(min(col('Date')),3),date_add(max(col('Date')),3)).show(1)"
      ],
      "execution_count": 0,
      "outputs": []
    },
    {
      "cell_type": "markdown",
      "metadata": {
        "id": "UIrPFeLw2ik-",
        "colab_type": "text"
      },
      "source": [
        "# Working with dates"
      ]
    },
    {
      "cell_type": "code",
      "metadata": {
        "id": "IH-RxyDx2BEX",
        "colab_type": "code",
        "colab": {}
      },
      "source": [
        "from pyspark.sql.functions import min,max, date_add, date_sub"
      ],
      "execution_count": 0,
      "outputs": []
    },
    {
      "cell_type": "code",
      "metadata": {
        "id": "6RkeKIQQ2BLi",
        "colab_type": "code",
        "colab": {}
      },
      "source": [
        "rc.select(date_sub(min(col('Date')),3),date_add(max(col('Date')),3)).show(1)"
      ],
      "execution_count": 0,
      "outputs": []
    },
    {
      "cell_type": "code",
      "metadata": {
        "id": "cjYbFXjd2BS3",
        "colab_type": "code",
        "colab": {}
      },
      "source": [
        "from pyspark.sql.functions import to_date, to_timestamp, lit"
      ],
      "execution_count": 0,
      "outputs": []
    },
    {
      "cell_type": "markdown",
      "metadata": {
        "id": "rtbj_pm62viE",
        "colab_type": "text"
      },
      "source": [
        "  **2019-12-25 13:30:00**"
      ]
    },
    {
      "cell_type": "code",
      "metadata": {
        "id": "0PS9RH1b2BZm",
        "colab_type": "code",
        "colab": {}
      },
      "source": [
        "\n",
        "df = spark.createDataFrame([('2019-12-25 13:30:00',)],['Christmas'])\n",
        "df.show()"
      ],
      "execution_count": 0,
      "outputs": []
    },
    {
      "cell_type": "code",
      "metadata": {
        "id": "WffmkR0O2Bf8",
        "colab_type": "code",
        "colab": {}
      },
      "source": [
        "df.select(to_date(col('Christmas'),'yyyy-MM-dd HH:mm:ss'),to_timestamp(col('Christmas'),'yyyy-MM-dd HH:mm:ss')).show()"
      ],
      "execution_count": 0,
      "outputs": []
    },
    {
      "cell_type": "markdown",
      "metadata": {
        "id": "yXjZeGx224Z-",
        "colab_type": "text"
      },
      "source": [
        "**25/Dec/2019 13:30:00**"
      ]
    },
    {
      "cell_type": "code",
      "metadata": {
        "id": "GnjEKi3k2zgL",
        "colab_type": "code",
        "colab": {}
      },
      "source": [
        "df = spark.createDataFrame([('25/Dec/2019 13:30:00',)],['Christmas'])\n",
        "df.show(1)"
      ],
      "execution_count": 0,
      "outputs": []
    },
    {
      "cell_type": "code",
      "metadata": {
        "id": "i-yMhikh2zok",
        "colab_type": "code",
        "colab": {}
      },
      "source": [
        "df.select(to_date(col('Christmas'),'dd/MMM/yyyy HH:mm:ss'),to_timestamp(col('Christmas'),'dd/MMM/yyyy HH:mm:ss')).show(1)"
      ],
      "execution_count": 0,
      "outputs": []
    },
    {
      "cell_type": "markdown",
      "metadata": {
        "id": "2dx2_RQh2-23",
        "colab_type": "text"
      },
      "source": [
        "**12/25/2019 01:30:00 PM**"
      ]
    },
    {
      "cell_type": "code",
      "metadata": {
        "id": "wDtm4nN22zwK",
        "colab_type": "code",
        "colab": {}
      },
      "source": [
        "df = spark.createDataFrame([('12/25/2019 01:30:00 PM',)],['Christmas'])\n",
        "df.show(1,truncate=False)"
      ],
      "execution_count": 0,
      "outputs": []
    },
    {
      "cell_type": "code",
      "metadata": {
        "id": "09imAqnd2z3a",
        "colab_type": "code",
        "colab": {}
      },
      "source": [
        "df.select(to_date(col('Christmas'),'MM/dd/yyyy hh:mm:ss aa'),to_timestamp(col('Christmas'),'MM/dd/yyyy hh:mm:ss aa')).show(1)"
      ],
      "execution_count": 0,
      "outputs": []
    },
    {
      "cell_type": "code",
      "metadata": {
        "id": "SYySXNgH2z-O",
        "colab_type": "code",
        "colab": {}
      },
      "source": [
        "nrc = spark.read.csv('reported-crimes.csv',header=True)\n",
        "nrc.show(5,truncate=False)"
      ],
      "execution_count": 0,
      "outputs": []
    },
    {
      "cell_type": "markdown",
      "metadata": {
        "id": "TUaDbYiI3NCc",
        "colab_type": "text"
      },
      "source": [
        "## Joins"
      ]
    },
    {
      "cell_type": "markdown",
      "metadata": {
        "id": "2yhFu3oA3N7z",
        "colab_type": "text"
      },
      "source": [
        "**Download police station data**"
      ]
    },
    {
      "cell_type": "code",
      "metadata": {
        "id": "aqo__mr-20Fb",
        "colab_type": "code",
        "colab": {}
      },
      "source": [
        "!wget -O police-station.csv https://data.cityofchicago.org/api/views/z8bn-74gv/rows.csv?accessType=DOWNLOAD"
      ],
      "execution_count": 0,
      "outputs": []
    },
    {
      "cell_type": "code",
      "metadata": {
        "id": "Snyp18lQ20LP",
        "colab_type": "code",
        "colab": {}
      },
      "source": [
        "!ls -l"
      ],
      "execution_count": 0,
      "outputs": []
    },
    {
      "cell_type": "code",
      "metadata": {
        "id": "15bS3Grl20SN",
        "colab_type": "code",
        "colab": {}
      },
      "source": [
        "ps = spark.read.csv('police-station.csv',header=True)\n",
        "ps.show(5,truncate=True)"
      ],
      "execution_count": 0,
      "outputs": []
    },
    {
      "cell_type": "markdown",
      "metadata": {
        "id": "x8lvPpQf3adc",
        "colab_type": "text"
      },
      "source": [
        "**The reported crimes dataset has only the district number. Add the district name by joining with the police station dataset**"
      ]
    },
    {
      "cell_type": "code",
      "metadata": {
        "id": "HhWQXSwF3WQf",
        "colab_type": "code",
        "colab": {}
      },
      "source": [
        "rc.cache()\n",
        "rc.count()"
      ],
      "execution_count": 0,
      "outputs": []
    },
    {
      "cell_type": "code",
      "metadata": {
        "id": "cUtfhTft3WXP",
        "colab_type": "code",
        "colab": {}
      },
      "source": [
        "ps.select(col('DISTRICT')).distinct().show(30)"
      ],
      "execution_count": 0,
      "outputs": []
    },
    {
      "cell_type": "code",
      "metadata": {
        "id": "__d8GvLy3Wdr",
        "colab_type": "code",
        "colab": {}
      },
      "source": [
        "rc.select(col('District')).distinct().show(30)"
      ],
      "execution_count": 0,
      "outputs": []
    },
    {
      "cell_type": "code",
      "metadata": {
        "id": "b7vrG53_3WkL",
        "colab_type": "code",
        "colab": {}
      },
      "source": [
        "from pyspark.sql.functions import lpad"
      ],
      "execution_count": 0,
      "outputs": []
    },
    {
      "cell_type": "code",
      "metadata": {
        "id": "R6lkrqVW3Wql",
        "colab_type": "code",
        "colab": {}
      },
      "source": [
        "help(lpad)"
      ],
      "execution_count": 0,
      "outputs": []
    },
    {
      "cell_type": "code",
      "metadata": {
        "id": "2QYQ39Ky3WvP",
        "colab_type": "code",
        "colab": {}
      },
      "source": [
        "ps.select(lpad(col('DISTRICT'),3,'0')).show(10)"
      ],
      "execution_count": 0,
      "outputs": []
    },
    {
      "cell_type": "code",
      "metadata": {
        "id": "hMuS4vgD3W2N",
        "colab_type": "code",
        "colab": {}
      },
      "source": [
        "ps = ps.withColumn('Format_district', lpad(col('DISTRICT'),3,'0'))\n",
        "ps.show(10)"
      ],
      "execution_count": 0,
      "outputs": []
    },
    {
      "cell_type": "code",
      "metadata": {
        "id": "7ic5W55d3W64",
        "colab_type": "code",
        "colab": {}
      },
      "source": [
        "rc.join(ps, rc.District == ps.Format_district, 'left_outer').show(10)"
      ],
      "execution_count": 0,
      "outputs": []
    },
    {
      "cell_type": "code",
      "metadata": {
        "id": "PSc_lRyB3XCQ",
        "colab_type": "code",
        "colab": {}
      },
      "source": [
        "ps.columns"
      ],
      "execution_count": 0,
      "outputs": []
    },
    {
      "cell_type": "code",
      "metadata": {
        "id": "FrJFMKKT3XKg",
        "colab_type": "code",
        "colab": {}
      },
      "source": [
        "rc.join(ps, rc.District == ps.Format_district, 'left_outer').drop( 'ADDRESS',\n",
        " 'CITY',\n",
        " 'STATE',\n",
        " 'ZIP',\n",
        " 'WEBSITE',\n",
        " 'PHONE',\n",
        " 'FAX',\n",
        " 'TTY',\n",
        " 'X COORDINATE',\n",
        " 'Y COORDINATE',\n",
        " 'LATITUDE',\n",
        " 'LONGITUDE',\n",
        " 'LOCATION',\n",
        " 'Boundaries - ZIP Codes',\n",
        " 'Community Areas',\n",
        " 'Zip Codes',\n",
        " 'Census Tracts',\n",
        " 'Wards',\n",
        " ':@computed_region_awaf_s7ux',\n",
        " 'Format_district').show(10)"
      ],
      "execution_count": 0,
      "outputs": []
    },
    {
      "cell_type": "markdown",
      "metadata": {
        "id": "Ig29JcE-3XSo",
        "colab_type": "text"
      },
      "source": [
        "# RDDs"
      ]
    },
    {
      "cell_type": "code",
      "metadata": {
        "id": "NyjXZxV73XAX",
        "colab_type": "code",
        "colab": {}
      },
      "source": [
        "psrdd = sc.textFile('police-stations.csv')\n",
        "psrdd.first()"
      ],
      "execution_count": 0,
      "outputs": []
    },
    {
      "cell_type": "code",
      "metadata": {
        "id": "Kd3GMtsS4Lzb",
        "colab_type": "code",
        "colab": {}
      },
      "source": [
        "ps_header = psrdd.first()"
      ],
      "execution_count": 0,
      "outputs": []
    },
    {
      "cell_type": "code",
      "metadata": {
        "id": "rXfj8HSx4NN9",
        "colab_type": "code",
        "colab": {}
      },
      "source": [
        "psrest = psrdd.filter(lambda line: line!=ps_header)"
      ],
      "execution_count": 0,
      "outputs": []
    },
    {
      "cell_type": "code",
      "metadata": {
        "id": "0FBXkCGN4NnO",
        "colab_type": "code",
        "colab": {}
      },
      "source": [
        "psrest.first()"
      ],
      "execution_count": 0,
      "outputs": []
    },
    {
      "cell_type": "markdown",
      "metadata": {
        "id": "KmjLbRf04VS4",
        "colab_type": "text"
      },
      "source": [
        "**How many police stations are there?**"
      ]
    },
    {
      "cell_type": "code",
      "metadata": {
        "id": "dqdJ0J644Nv9",
        "colab_type": "code",
        "colab": {}
      },
      "source": [
        "psrest.map(lambda line:line.split(',')).collect()"
      ],
      "execution_count": 0,
      "outputs": []
    },
    {
      "cell_type": "code",
      "metadata": {
        "id": "0HXOg_Vi4N4D",
        "colab_type": "code",
        "colab": {}
      },
      "source": [
        "psrest.map(lambda line:line.split(',')).count()"
      ],
      "execution_count": 0,
      "outputs": []
    },
    {
      "cell_type": "markdown",
      "metadata": {
        "id": "0L5Ul82O4dV7",
        "colab_type": "text"
      },
      "source": [
        "**Display the District ID, District name, Address and Zip for the police station with District ID 7**"
      ]
    },
    {
      "cell_type": "code",
      "metadata": {
        "id": "8rJM_KqP4N_D",
        "colab_type": "code",
        "colab": {}
      },
      "source": [
        "(psrest.filter(lambda line: line.split(',')[0]=='7').\n",
        " map(lambda line: (line.split(',')[0],\n",
        "                    line.split(',')[1],\n",
        "                    line.split(',')[2],\n",
        "                    line.split(',')[5]))).collect()"
      ],
      "execution_count": 0,
      "outputs": []
    },
    {
      "cell_type": "markdown",
      "metadata": {
        "id": "apdwd3sV4h7V",
        "colab_type": "text"
      },
      "source": [
        "**Police stations 10 and 11 are geographically close to each other. Display the District ID, District name, address and zip code**"
      ]
    },
    {
      "cell_type": "code",
      "metadata": {
        "id": "zYfzC4Yw4OG6",
        "colab_type": "code",
        "colab": {}
      },
      "source": [
        "(psrest.filter(lambda line: line.split(',')[0] in ['10','11']).\n",
        " map(lambda line: (line.split(',')[0],\n",
        "                    line.split(',')[1],\n",
        "                    line.split(',')[2],\n",
        "                    line.split(',')[5]))).collect()"
      ],
      "execution_count": 0,
      "outputs": []
    }
  ]
}